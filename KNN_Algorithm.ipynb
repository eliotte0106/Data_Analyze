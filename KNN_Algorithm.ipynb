{
  "nbformat": 4,
  "nbformat_minor": 0,
  "metadata": {
    "colab": {
      "name": "KNN_Algorithm.ipynb",
      "provenance": [],
      "authorship_tag": "ABX9TyP0pGvkeB3juts/sqDcSBKy",
      "include_colab_link": true
    },
    "kernelspec": {
      "name": "python3",
      "display_name": "Python 3"
    },
    "language_info": {
      "name": "python"
    }
  },
  "cells": [
    {
      "cell_type": "markdown",
      "metadata": {
        "id": "view-in-github",
        "colab_type": "text"
      },
      "source": [
        "<a href=\"https://colab.research.google.com/github/eliotte0106/Data_Analyze-and-Image_Process/blob/main/KNN_Algorithm.ipynb\" target=\"_parent\"><img src=\"https://colab.research.google.com/assets/colab-badge.svg\" alt=\"Open In Colab\"/></a>"
      ]
    },
    {
      "cell_type": "markdown",
      "metadata": {
        "id": "ELKwwWta5gS4"
      },
      "source": [
        "K-Nearest-Neighbor :\n",
        "\n",
        "*    Unsupervised Learning\n",
        "*    Finds the nearest label from itself\n",
        "\n",
        "\n"
      ]
    },
    {
      "cell_type": "code",
      "metadata": {
        "colab": {
          "base_uri": "https://localhost:8080/",
          "height": 316
        },
        "id": "JK6YPX3-5vl9",
        "outputId": "ea93eadc-3ef4-4594-b8eb-5156415fa32a"
      },
      "source": [
        "import cv2\n",
        "import numpy as np\n",
        "from matplotlib import pyplot as plt\n",
        "\n",
        "#position of each data : 25 X 2 size 0 ~ 100\n",
        "trainData = np.random.randint(0,100,(25,2)).astype(np.float32)\n",
        "#data : 0 or 1\n",
        "response = np.random.randint(0,2,(25,1)).astype(np.float32)\n",
        "\n",
        "#data 0 is put on (x,y) with red colored\n",
        "red = trainData[response.ravel() == 0]\n",
        "plt.scatter(red[:,0], red[:,1], 80, 'r', '^')\n",
        "#data 1 is put on (x,y) with blue colored\n",
        "blue = trainData[response.ravel() == 1]\n",
        "plt.scatter(blue[:,0], blue[:,1], 80, 'b', 's')\n",
        "#(0 ~ 100, 0 ~ 100) located data created\n",
        "newcomer = np.random.randint(0, 100, (1, 2)).astype(np.float32)\n",
        "plt.scatter(newcomer[:, 0], newcomer[:, 1], 80, 'g', 'o')\n",
        "\n",
        "knn = cv2.ml.KNearest_create()\n",
        "knn.train(trainData, cv2.ml.ROW_SAMPLE, response)\n",
        "ret, results, neighbours, dist = knn.findNearest(newcomer, 3)\n",
        "\n",
        "# finds 3 nearest data and choose\n",
        "print(\"result : \", results)\n",
        "print(\"neighbours :\", neighbours)\n",
        "print(\"distance: \", dist)\n",
        "\n",
        "plt.show()"
      ],
      "execution_count": 1,
      "outputs": [
        {
          "output_type": "stream",
          "text": [
            "result :  [[0.]]\n",
            "neighbours : [[0. 0. 0.]]\n",
            "distance:  [[ 64. 377. 680.]]\n"
          ],
          "name": "stdout"
        },
        {
          "output_type": "display_data",
          "data": {
            "image/png": "[encoded data removed]",
            "text/plain": [
              "<Figure size 432x288 with 1 Axes>"
            ]
          },
          "metadata": {
            "tags": [],
            "needs_background": "light"
          }
        }
      ]
    }
  ]
}