{
  "nbformat": 4,
  "nbformat_minor": 0,
  "metadata": {
    "colab": {
      "name": "Pandas_Basic.ipynb",
      "provenance": [],
      "collapsed_sections": [],
      "authorship_tag": "ABX9TyOk3VbZaYiUnyJvUUEbNBGZ",
      "include_colab_link": true
    },
    "kernelspec": {
      "name": "python3",
      "display_name": "Python 3"
    },
    "language_info": {
      "name": "python"
    }
  },
  "cells": [
    {
      "cell_type": "markdown",
      "metadata": {
        "id": "view-in-github",
        "colab_type": "text"
      },
      "source": [
        "<a href=\"https://colab.research.google.com/github/eliotte0106/Data_Analyze-and-Image_Process/blob/main/Pandas_Basic.ipynb\" target=\"_parent\"><img src=\"https://colab.research.google.com/assets/colab-badge.svg\" alt=\"Open In Colab\"/></a>"
      ]
    },
    {
      "cell_type": "markdown",
      "metadata": {
        "id": "q_dAqmilj5Ta"
      },
      "source": [
        "Pandas basic use"
      ]
    },
    {
      "cell_type": "markdown",
      "metadata": {
        "id": "s9M6_M59j_lZ"
      },
      "source": [
        "Series : Index + Value"
      ]
    },
    {
      "cell_type": "code",
      "metadata": {
        "colab": {
          "base_uri": "https://localhost:8080/"
        },
        "id": "2s22f6GZkBve",
        "outputId": "cd4dec1e-5dd3-4240-bb76-869f7f80032e"
      },
      "source": [
        "import pandas as pd\n",
        "\n",
        "array = pd.Series(['apple', 'banana', 'carrot'], index = ['a', 'b', 'c'])\n",
        "\n",
        "print(array)\n",
        "print(array['c'])"
      ],
      "execution_count": null,
      "outputs": [
        {
          "output_type": "stream",
          "text": [
            "a     apple\n",
            "b    banana\n",
            "c    carrot\n",
            "dtype: object\n",
            "carrot\n"
          ],
          "name": "stdout"
        }
      ]
    },
    {
      "cell_type": "code",
      "metadata": {
        "colab": {
          "base_uri": "https://localhost:8080/"
        },
        "id": "nNzSzAn8kbVu",
        "outputId": "c67db20b-daaf-4e19-ee02-e8d5159fedb4"
      },
      "source": [
        "import pandas as pd\n",
        "\n",
        "data = {'a' : 'apple',\n",
        "        'b' : 'banana',\n",
        "        'c' : 'carrot'\n",
        "        }\n",
        "\n",
        "#dict to series\n",
        "array = pd.Series(data)\n",
        "print(array)\n",
        "print(array['b'])"
      ],
      "execution_count": null,
      "outputs": [
        {
          "output_type": "stream",
          "text": [
            "a     apple\n",
            "b    banana\n",
            "c    carrot\n",
            "dtype: object\n",
            "banana\n"
          ],
          "name": "stdout"
        }
      ]
    },
    {
      "cell_type": "markdown",
      "metadata": {
        "id": "RDGZiE2sktmB"
      },
      "source": [
        "Data Frame \n",
        "\n",
        "*   for many series\n",
        "*   using table form\n",
        "\n"
      ]
    },
    {
      "cell_type": "code",
      "metadata": {
        "colab": {
          "base_uri": "https://localhost:8080/"
        },
        "id": "n46ptgjEkoS8",
        "outputId": "b3aa1028-5b90-4624-d087-a618d3ff6222"
      },
      "source": [
        "import pandas as pd\n",
        "\n",
        "word_dict = {\n",
        "    'apple' : '사과',\n",
        "    'banana' : '바나나',\n",
        "    'carrot' : '당근'\n",
        "}\n",
        "\n",
        "freq_dict = {\n",
        "    'apple' : 3,\n",
        "    'banana' : 5,\n",
        "    'carrot' : 7\n",
        "}\n",
        "\n",
        "word = pd.Series(word_dict)\n",
        "freq = pd.Series(freq_dict)\n",
        "\n",
        "summary = pd.DataFrame({'word':word,\n",
        "                       'frequency':freq})\n",
        "print(summary)"
      ],
      "execution_count": null,
      "outputs": [
        {
          "output_type": "stream",
          "text": [
            "       word  frequency\n",
            "apple    사과          3\n",
            "banana  바나나          5\n",
            "carrot   당근          7\n"
          ],
          "name": "stdout"
        }
      ]
    },
    {
      "cell_type": "markdown",
      "metadata": {
        "id": "lx6Yq2hClke8"
      },
      "source": [
        "Series calculation\n",
        "\n",
        "*   calculate series to a new series\n",
        "\n"
      ]
    },
    {
      "cell_type": "code",
      "metadata": {
        "colab": {
          "base_uri": "https://localhost:8080/"
        },
        "id": "9jBNeG1tlXIV",
        "outputId": "a834245f-a0b1-4a64-bb01-785b3f3261d6"
      },
      "source": [
        "import pandas as pd\n",
        "\n",
        "word_dict = {\n",
        "    'Apple': '사과',\n",
        "    'Banana': '바나나',\n",
        "    'Carrot': '당근'\n",
        "}\n",
        "\n",
        "freq_dict = {\n",
        "    'Apple': 3,\n",
        "    'Banana': 5,\n",
        "    'Carrot': 7\n",
        "}\n",
        "\n",
        "importance_dict = {\n",
        "    'Apple': 3,\n",
        "    'Banana': 2,\n",
        "    'Carrot': 1\n",
        "}\n",
        "\n",
        "word = pd.Series(word_dict)\n",
        "freq = pd.Series(freq_dict)\n",
        "importance = pd.Series(importance_dict)\n",
        "\n",
        "word = pd.Series(word_dict)\n",
        "freq = pd.Series(freq_dict)\n",
        "importance = pd.Series(importance_dict)\n",
        "\n",
        "summary = pd.DataFrame({\n",
        "    'word': word,\n",
        "    'frequency': freq,\n",
        "    'importance': importance\n",
        "})\n",
        "\n",
        "score = summary['frequency'] * summary['importance']\n",
        "summary['score'] = score\n",
        "\n",
        "print(summary)\n"
      ],
      "execution_count": null,
      "outputs": [
        {
          "output_type": "stream",
          "text": [
            "       word  frequency  importance  score\n",
            "Apple    사과          3           3      9\n",
            "Banana  바나나          5           2     10\n",
            "Carrot   당근          7           1      7\n"
          ],
          "name": "stdout"
        }
      ]
    },
    {
      "cell_type": "markdown",
      "metadata": {
        "id": "zGZPb7WspX0I"
      },
      "source": [
        "Data Frame slicing"
      ]
    },
    {
      "cell_type": "code",
      "metadata": {
        "colab": {
          "base_uri": "https://localhost:8080/"
        },
        "id": "K_3rpoOvpWcc",
        "outputId": "68a4d11a-e92f-415d-bc5d-131e09a4077f"
      },
      "source": [
        "import pandas as pd\n",
        "\n",
        "word_dict = {\n",
        "    'Apple': '사과',\n",
        "    'Banana': '바나나',\n",
        "    'Carrot': '당근'\n",
        "}\n",
        "\n",
        "freq_dict = {\n",
        "    'Apple': 3,\n",
        "    'Banana': 5,\n",
        "    'Carrot': 7\n",
        "}\n",
        "\n",
        "importance_dict = {\n",
        "    'Apple': 3,\n",
        "    'Banana': 2,\n",
        "    'Carrot': 1\n",
        "}\n",
        "\n",
        "word = pd.Series(word_dict)\n",
        "freq = pd.Series(freq_dict)\n",
        "importance = pd.Series(importance_dict)\n",
        "\n",
        "word = pd.Series(word_dict)\n",
        "freq = pd.Series(freq_dict)\n",
        "importance = pd.Series(importance_dict)\n",
        "\n",
        "summary = pd.DataFrame({\n",
        "    'word': word,\n",
        "    'frequency': freq,\n",
        "    'importance': importance\n",
        "})\n",
        "\n",
        "score = summary['frequency'] * summary['importance']\n",
        "summary['score'] = score\n",
        "\n",
        "print(summary)\n",
        "#slicing by name\n",
        "print(summary.loc['Apple':'Banana','importance':'importance'])\n",
        "#slicing by index\n",
        "print(summary.iloc[0:2,2:3])\n",
        "\n"
      ],
      "execution_count": null,
      "outputs": [
        {
          "output_type": "stream",
          "text": [
            "       word  frequency  importance  score\n",
            "Apple    사과          3           3      9\n",
            "Banana  바나나          5           2     10\n",
            "Carrot   당근          7           1      7\n",
            "        importance\n",
            "Apple            3\n",
            "Banana           2\n",
            "        importance\n",
            "Apple            3\n",
            "Banana           2\n"
          ],
          "name": "stdout"
        }
      ]
    },
    {
      "cell_type": "markdown",
      "metadata": {
        "id": "Mj7buZfvqxgH"
      },
      "source": [
        "Data Frame calculation"
      ]
    },
    {
      "cell_type": "code",
      "metadata": {
        "colab": {
          "base_uri": "https://localhost:8080/"
        },
        "id": "9Ol7m5Nip7Zq",
        "outputId": "ed568cae-ad86-4255-f9dd-ed30d067829a"
      },
      "source": [
        "import pandas as pd\n",
        "\n",
        "word_dict = {\n",
        "    'Apple': '사과',\n",
        "    'Banana': '바나나',\n",
        "    'Carrot': '당근'\n",
        "}\n",
        "\n",
        "freq_dict = {\n",
        "    'Apple': 3,\n",
        "    'Banana': 5,\n",
        "    'Carrot': 7\n",
        "}\n",
        "\n",
        "importance_dict = {\n",
        "    'Apple': 3,\n",
        "    'Banana': 2,\n",
        "    'Carrot': 1\n",
        "}\n",
        "\n",
        "word = pd.Series(word_dict)\n",
        "freq = pd.Series(freq_dict)\n",
        "importance = pd.Series(importance_dict)\n",
        "\n",
        "word = pd.Series(word_dict)\n",
        "freq = pd.Series(freq_dict)\n",
        "importance = pd.Series(importance_dict)\n",
        "\n",
        "summary = pd.DataFrame({\n",
        "    'word': word,\n",
        "    'frequency': freq,\n",
        "    'importance': importance\n",
        "})\n",
        "\n",
        "score = summary['frequency'] * summary['importance']\n",
        "summary['score'] = score\n",
        "\n",
        "print(summary)\n",
        "summary.loc['Apple', 'importance'] = 5 # Data Change\n",
        "summary.loc['Blue raz'] = ['블루라즈', 5, 3,3] # New Data Insert\n",
        "\n",
        "print(summary)"
      ],
      "execution_count": null,
      "outputs": [
        {
          "output_type": "stream",
          "text": [
            "       word  frequency  importance  score\n",
            "Apple    사과          3           3      9\n",
            "Banana  바나나          5           2     10\n",
            "Carrot   당근          7           1      7\n",
            "          word  frequency  importance  score\n",
            "Apple       사과          3           5      9\n",
            "Banana     바나나          5           2     10\n",
            "Carrot      당근          7           1      7\n",
            "Blue raz  블루라즈          5           3      3\n"
          ],
          "name": "stdout"
        }
      ]
    },
    {
      "cell_type": "markdown",
      "metadata": {
        "id": "PY5IM0jtrsJz"
      },
      "source": [
        "Excel import / export"
      ]
    },
    {
      "cell_type": "code",
      "metadata": {
        "colab": {
          "base_uri": "https://localhost:8080/"
        },
        "id": "RSXgbEQFrR0N",
        "outputId": "0ed2c742-8148-4665-b5db-b71e4627044c"
      },
      "source": [
        "import pandas as pd\n",
        "\n",
        "word_dict = {\n",
        "    'Apple': '사과',\n",
        "    'Banana': '바나나',\n",
        "    'Carrot': '당근'\n",
        "}\n",
        "\n",
        "freq_dict = {\n",
        "    'Apple': 3,\n",
        "    'Banana': 5,\n",
        "    'Carrot': 7\n",
        "}\n",
        "\n",
        "importance_dict = {\n",
        "    'Apple': 3,\n",
        "    'Banana': 2,\n",
        "    'Carrot': 1\n",
        "}\n",
        "\n",
        "word = pd.Series(word_dict)\n",
        "freq = pd.Series(freq_dict)\n",
        "\n",
        "summary = pd.DataFrame({\n",
        "    'word' : word,\n",
        "    'frequency' : freq\n",
        "})\n",
        "\n",
        "summary.to_csv(\"summary.csv\", encoding=\"utf-8-sig\")\n",
        "saved = pd.read_csv(\"summary.csv\", index_col = 0)\n",
        "print(saved)"
      ],
      "execution_count": null,
      "outputs": [
        {
          "output_type": "stream",
          "text": [
            "       word  frequency\n",
            "Apple    사과          3\n",
            "Banana  바나나          5\n",
            "Carrot   당근          7\n"
          ],
          "name": "stdout"
        }
      ]
    }
  ]
}