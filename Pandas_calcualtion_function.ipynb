{
  "nbformat": 4,
  "nbformat_minor": 0,
  "metadata": {
    "colab": {
      "name": "Pandas_calcualtion_function.ipynb",
      "provenance": [],
      "collapsed_sections": [],
      "authorship_tag": "ABX9TyM0jPrrweoXmsF6lJr6Aczv",
      "include_colab_link": true
    },
    "kernelspec": {
      "name": "python3",
      "display_name": "Python 3"
    },
    "language_info": {
      "name": "python"
    }
  },
  "cells": [
    {
      "cell_type": "markdown",
      "metadata": {
        "id": "view-in-github",
        "colab_type": "text"
      },
      "source": [
        "<a href=\"https://colab.research.google.com/github/eliotte0106/Data_Analyze-and-Image_Process/blob/main/Pandas_calcualtion_function.ipynb\" target=\"_parent\"><img src=\"https://colab.research.google.com/assets/colab-badge.svg\" alt=\"Open In Colab\"/></a>"
      ]
    },
    {
      "cell_type": "markdown",
      "metadata": {
        "id": "hLmRomhOvvAU"
      },
      "source": [
        "Data Frame Null checking"
      ]
    },
    {
      "cell_type": "code",
      "metadata": {
        "colab": {
          "base_uri": "https://localhost:8080/"
        },
        "id": "hZv6PWt8v1jd",
        "outputId": "c5c0fbdd-9498-468c-ae14-659df5c4fb77"
      },
      "source": [
        "import pandas as pd\n",
        "import numpy as np\n",
        "\n",
        "word_dict = {\n",
        "    'Apple': '사과',\n",
        "    'Banana': '바나나',\n",
        "    'Carrot': '당근',\n",
        "    'Durian': '두리안'\n",
        "}\n",
        "\n",
        "frequency_dict = {\n",
        "    'Apple': 3,\n",
        "    'Banana': 5,\n",
        "    'Carrot': np.nan,\n",
        "    'Durian': 2\n",
        "}\n",
        "\n",
        "importance_dict = {\n",
        "    'Apple': 3,\n",
        "    'Banana': 2,\n",
        "    'Carrot': 1,\n",
        "    'Durian': 1\n",
        "}\n",
        "\n",
        "word = pd.Series(word_dict)\n",
        "frequency = pd.Series(frequency_dict)\n",
        "importance = pd.Series(importance_dict)\n",
        "\n",
        "summary = pd.DataFrame({\n",
        "    'word': word,\n",
        "    'frequency': frequency,\n",
        "    'importance': importance\n",
        "})\n",
        "\n",
        "print(summary)\n",
        "print(summary.notnull())\n",
        "print(summary.isnull())\n",
        "summary['frequency'] = summary['frequency'].fillna('데이터 없음')\n",
        "print(summary)"
      ],
      "execution_count": 1,
      "outputs": [
        {
          "output_type": "stream",
          "text": [
            "       word  frequency  importance\n",
            "Apple    사과        3.0           3\n",
            "Banana  바나나        5.0           2\n",
            "Carrot   당근        NaN           1\n",
            "Durian  두리안        2.0           1\n",
            "        word  frequency  importance\n",
            "Apple   True       True        True\n",
            "Banana  True       True        True\n",
            "Carrot  True      False        True\n",
            "Durian  True       True        True\n",
            "         word  frequency  importance\n",
            "Apple   False      False       False\n",
            "Banana  False      False       False\n",
            "Carrot  False       True       False\n",
            "Durian  False      False       False\n",
            "       word frequency  importance\n",
            "Apple    사과         3           3\n",
            "Banana  바나나         5           2\n",
            "Carrot   당근    데이터 없음           1\n",
            "Durian  두리안         2           1\n"
          ],
          "name": "stdout"
        }
      ]
    },
    {
      "cell_type": "markdown",
      "metadata": {
        "id": "3RTYWmIRwSyx"
      },
      "source": [
        "Series data calculation"
      ]
    },
    {
      "cell_type": "code",
      "metadata": {
        "colab": {
          "base_uri": "https://localhost:8080/"
        },
        "id": "Ma4_ZFyEwdxt",
        "outputId": "419f5920-710a-445e-dded-3b9c57d76086"
      },
      "source": [
        "import pandas as pd\n",
        "\n",
        "array1 = pd.Series([1,2,3], index = ['A', 'B', 'C'])\n",
        "array2 = pd.Series([4,5,6], index = ['B','C','D'])\n",
        "\n",
        "array = array1.add(array2,fill_value=0)\n",
        "print(array)"
      ],
      "execution_count": 4,
      "outputs": [
        {
          "output_type": "stream",
          "text": [
            "A    1.0\n",
            "B    6.0\n",
            "C    8.0\n",
            "D    6.0\n",
            "dtype: float64\n"
          ],
          "name": "stdout"
        }
      ]
    },
    {
      "cell_type": "markdown",
      "metadata": {
        "id": "X_UAolPix6mn"
      },
      "source": [
        "Data Frame data calculation"
      ]
    },
    {
      "cell_type": "code",
      "metadata": {
        "colab": {
          "base_uri": "https://localhost:8080/"
        },
        "id": "24zXlllaxz17",
        "outputId": "533a2da5-d798-457f-9069-141453374bb0"
      },
      "source": [
        "import pandas as pd\n",
        "\n",
        "array1 = pd.DataFrame([[1, 2], [3, 4]], index=['A', 'B'])\n",
        "array2 = pd.DataFrame([[1, 2, 3], [4, 5, 6], [7, 8, 9]], index=['B', 'C', 'D'])\n",
        "\n",
        "print(array1)\n",
        "print(array2)\n",
        "\n",
        "array = array1.add(array2, fill_value=0)\n",
        "print(array)"
      ],
      "execution_count": 7,
      "outputs": [
        {
          "output_type": "stream",
          "text": [
            "   0  1\n",
            "A  1  2\n",
            "B  3  4\n",
            "   0  1  2\n",
            "B  1  2  3\n",
            "C  4  5  6\n",
            "D  7  8  9\n",
            "     0    1    2\n",
            "A  1.0  2.0  NaN\n",
            "B  4.0  6.0  3.0\n",
            "C  4.0  5.0  6.0\n",
            "D  7.0  8.0  9.0\n"
          ],
          "name": "stdout"
        }
      ]
    },
    {
      "cell_type": "markdown",
      "metadata": {
        "id": "gIDubKUOyXwx"
      },
      "source": [
        "Data Frame sum function"
      ]
    },
    {
      "cell_type": "code",
      "metadata": {
        "colab": {
          "base_uri": "https://localhost:8080/"
        },
        "id": "opc8RfiLyNon",
        "outputId": "988016c2-778f-451d-9c11-74f2f55bdd1d"
      },
      "source": [
        "import pandas as pd\n",
        "\n",
        "array1 = pd.DataFrame([[1, 2], [3, 4]], index=['A', 'B'])\n",
        "array2 = pd.DataFrame([[1, 2, 3], [4, 5, 6], [7, 8, 9]], index=['B', 'C', 'D'])\n",
        "\n",
        "array = array1.add(array2, fill_value=0)\n",
        "print(array)\n",
        "print(\"sum of column 1 :\", array[1].sum())\n",
        "print(array.sum())"
      ],
      "execution_count": 8,
      "outputs": [
        {
          "output_type": "stream",
          "text": [
            "     0    1    2\n",
            "A  1.0  2.0  NaN\n",
            "B  4.0  6.0  3.0\n",
            "C  4.0  5.0  6.0\n",
            "D  7.0  8.0  9.0\n",
            "sum of column 1 : 21.0\n",
            "0    16.0\n",
            "1    21.0\n",
            "2    18.0\n",
            "dtype: float64\n"
          ],
          "name": "stdout"
        }
      ]
    },
    {
      "cell_type": "markdown",
      "metadata": {
        "id": "TnA1Kuuuyk7u"
      },
      "source": [
        "Data Frame sort function"
      ]
    },
    {
      "cell_type": "code",
      "metadata": {
        "colab": {
          "base_uri": "https://localhost:8080/"
        },
        "id": "8iE5pLOPymaj",
        "outputId": "e86f3b25-0eec-42b1-cd40-0e06fb10e163"
      },
      "source": [
        "import pandas as pd\n",
        "import numpy as np\n",
        "\n",
        "word_dict = {\n",
        "    'Apple': '사과',\n",
        "    'Banana': '바나나',\n",
        "    'Carrot': '당근',\n",
        "    'Durian': '두리안'\n",
        "}\n",
        "\n",
        "frequency_dict = {\n",
        "    'Apple': 3,\n",
        "    'Banana': 5,\n",
        "    'Carrot': 1,\n",
        "    'Durian': 2\n",
        "}\n",
        "\n",
        "importance_dict = {\n",
        "    'Apple': 3,\n",
        "    'Banana': 2,\n",
        "    'Carrot': 1,\n",
        "    'Durian': 1\n",
        "}\n",
        "\n",
        "word = pd.Series(word_dict)\n",
        "frequency = pd.Series(frequency_dict)\n",
        "importance = pd.Series(importance_dict)\n",
        "\n",
        "summary = pd.DataFrame({\n",
        "    'word': word,\n",
        "    'frequency': frequency,\n",
        "    'importance': importance\n",
        "})\n",
        "\n",
        "print(summary)\n",
        "summary = summary.sort_values('frequency', ascending=True) # to reverse, make True to False\n",
        "print(summary)"
      ],
      "execution_count": 10,
      "outputs": [
        {
          "output_type": "stream",
          "text": [
            "       word  frequency  importance\n",
            "Apple    사과          3           3\n",
            "Banana  바나나          5           2\n",
            "Carrot   당근          1           1\n",
            "Durian  두리안          2           1\n",
            "       word  frequency  importance\n",
            "Carrot   당근          1           1\n",
            "Durian  두리안          2           1\n",
            "Apple    사과          3           3\n",
            "Banana  바나나          5           2\n"
          ],
          "name": "stdout"
        }
      ]
    }
  ]
}