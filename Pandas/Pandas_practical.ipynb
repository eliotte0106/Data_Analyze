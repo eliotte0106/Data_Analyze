{
  "nbformat": 4,
  "nbformat_minor": 0,
  "metadata": {
    "colab": {
      "name": "Pandas_practical.ipynb",
      "provenance": [],
      "authorship_tag": "ABX9TyOElKtBnbnJN/TKItLReR4Q",
      "include_colab_link": true
    },
    "kernelspec": {
      "name": "python3",
      "display_name": "Python 3"
    },
    "language_info": {
      "name": "python"
    }
  },
  "cells": [
    {
      "cell_type": "markdown",
      "metadata": {
        "id": "view-in-github",
        "colab_type": "text"
      },
      "source": [
        "<a href=\"https://colab.research.google.com/github/eliotte0106/Data_Analyze-and-Image_Process/blob/main/Pandas/Pandas_practical.ipynb\" target=\"_parent\"><img src=\"https://colab.research.google.com/assets/colab-badge.svg\" alt=\"Open In Colab\"/></a>"
      ]
    },
    {
      "cell_type": "markdown",
      "metadata": {
        "id": "5-Ar4Iv9DRb6"
      },
      "source": [
        "Data Frame Masking"
      ]
    },
    {
      "cell_type": "code",
      "metadata": {
        "colab": {
          "base_uri": "https://localhost:8080/"
        },
        "id": "XAlWzfwCDNaj",
        "outputId": "034f8d82-afeb-43dc-af54-c6f2ee2f2d8a"
      },
      "source": [
        "import numpy as np\n",
        "import pandas as pd\n",
        "\n",
        "df = pd.DataFrame(np.random.randint(1, 10, (2, 2)), index=[0, 1], columns=[\"A\", \"B\"])\n",
        "# print dataframe\n",
        "print(df)\n",
        "# print whether the elements of column A is less than or equal to 5\n",
        "print(df[\"A\"] <= 5)\n",
        "# print whether the elements of of column A is less than 5 & column Bs are less than 8\n",
        "print(df.query(\"A <= 5 and B <= 8\"))"
      ],
      "execution_count": 3,
      "outputs": [
        {
          "output_type": "stream",
          "text": [
            "   A  B\n",
            "0  1  5\n",
            "1  2  2\n",
            "0    True\n",
            "1    True\n",
            "Name: A, dtype: bool\n",
            "   A  B\n",
            "0  1  5\n",
            "1  2  2\n"
          ],
          "name": "stdout"
        }
      ]
    },
    {
      "cell_type": "markdown",
      "metadata": {
        "id": "eSyPIW48EDDf"
      },
      "source": [
        "Data Frame individual calculation 1"
      ]
    },
    {
      "cell_type": "code",
      "metadata": {
        "id": "4mLLlgWVD1i1"
      },
      "source": [
        "import pandas as pd\n",
        "\n",
        "df = pd.DataFrame([[1, 2, 3, 4], [1, 2, 3, 4]], index=[0, 1], columns=[\"A\", \"B\", \"C\", \"D\"])\n",
        "print(df)\n",
        "\n",
        "df = df.apply(lambda x: x + 1)\n",
        "print(df)\n",
        "\n",
        "def addOne(x):\n",
        "  return x + 1\n",
        "  \n",
        "df = df.apply(addOne)\n",
        "print(df)"
      ],
      "execution_count": null,
      "outputs": []
    },
    {
      "cell_type": "markdown",
      "metadata": {
        "id": "28Jj7QffEN4y"
      },
      "source": [
        "Data Frame individual calculation 2"
      ]
    },
    {
      "cell_type": "code",
      "metadata": {
        "colab": {
          "base_uri": "https://localhost:8080/"
        },
        "id": "ASrVTzoAEO4y",
        "outputId": "427128ad-6601-46c3-c1b4-1474e90cca8b"
      },
      "source": [
        "import pandas as pd\n",
        "\n",
        "df = pd.DataFrame([\n",
        "  ['Apple', 'Apple', 'Carrot', 'Banana'],\n",
        "  ['Durian', 'Banana', 'Apple', 'Carrot']],\n",
        "  index=[0, 1],\n",
        "  columns=[\"A\", \"B\", \"C\", \"D\"])\n",
        "\n",
        "print(df)\n",
        "df = df.replace({\"Apple\": \"Airport\"})\n",
        "print(df)"
      ],
      "execution_count": 4,
      "outputs": [
        {
          "output_type": "stream",
          "text": [
            "        A       B       C       D\n",
            "0   Apple   Apple  Carrot  Banana\n",
            "1  Durian  Banana   Apple  Carrot\n",
            "         A        B        C       D\n",
            "0  Airport  Airport   Carrot  Banana\n",
            "1   Durian   Banana  Airport  Carrot\n"
          ],
          "name": "stdout"
        }
      ]
    },
    {
      "cell_type": "markdown",
      "metadata": {
        "id": "v1DgWCz3EUo6"
      },
      "source": [
        "Data Frame Grouping 1"
      ]
    },
    {
      "cell_type": "code",
      "metadata": {
        "colab": {
          "base_uri": "https://localhost:8080/"
        },
        "id": "ejCCFcpeESge",
        "outputId": "431981cb-2a62-4edd-a208-99acedd9983b"
      },
      "source": [
        "import pandas as pd\n",
        "\n",
        "df = pd.DataFrame([\n",
        "  ['Apple', 7, 'Fruit'],\n",
        "  ['Banana', 3, 'Fruit'],\n",
        "  ['Beef', 5, 'Meal'],\n",
        "  ['Kimchi', 4, 'Meal']],\n",
        "  columns=[\"Name\", \"Frequency\", \"Type\"])\n",
        "\n",
        "print(df)\n",
        "print(df.groupby(['Type']).sum())"
      ],
      "execution_count": 5,
      "outputs": [
        {
          "output_type": "stream",
          "text": [
            "     Name  Frequency   Type\n",
            "0   Apple          7  Fruit\n",
            "1  Banana          3  Fruit\n",
            "2    Beef          5   Meal\n",
            "3  Kimchi          4   Meal\n",
            "       Frequency\n",
            "Type            \n",
            "Fruit         10\n",
            "Meal           9\n"
          ],
          "name": "stdout"
        }
      ]
    },
    {
      "cell_type": "markdown",
      "metadata": {
        "id": "sy0U17-IEkjV"
      },
      "source": [
        "Data Frame Grouping 2"
      ]
    },
    {
      "cell_type": "code",
      "metadata": {
        "colab": {
          "base_uri": "https://localhost:8080/"
        },
        "id": "CONBgtVpEb5_",
        "outputId": "8a212379-b1df-4ddf-8fba-e64c0cf8f2d4"
      },
      "source": [
        "\n",
        "import numpy as np\n",
        "import pandas as pd\n",
        "\n",
        "df = pd.DataFrame([\n",
        "  ['Apple', 7, 5, 'Fruit'],\n",
        "  ['Banana', 3, 6, 'Fruit'],\n",
        "  ['Beef', 5, 2, 'Meal'],\n",
        "  ['Kimchi', 4, 8, 'Meal']],\n",
        "  columns=[\"Name\", \"Frequency\", \"Importance\", \"Type\"])\n",
        "\n",
        "print(df)\n",
        "print(df.groupby([\"Type\"]).aggregate([min, max, np.average]))"
      ],
      "execution_count": 6,
      "outputs": [
        {
          "output_type": "stream",
          "text": [
            "     Name  Frequency  Importance   Type\n",
            "0   Apple          7           5  Fruit\n",
            "1  Banana          3           6  Fruit\n",
            "2    Beef          5           2   Meal\n",
            "3  Kimchi          4           8   Meal\n",
            "      Frequency             Importance            \n",
            "            min max average        min max average\n",
            "Type                                              \n",
            "Fruit         3   7     5.0          5   6     5.5\n",
            "Meal          4   5     4.5          2   8     5.0\n"
          ],
          "name": "stdout"
        }
      ]
    },
    {
      "cell_type": "markdown",
      "metadata": {
        "id": "l9mHTz4MFaTx"
      },
      "source": [
        "Data Frame Grouping 3"
      ]
    },
    {
      "cell_type": "code",
      "metadata": {
        "colab": {
          "base_uri": "https://localhost:8080/"
        },
        "id": "NAstACB_FZAt",
        "outputId": "6578cd06-f5fa-40d5-a12b-20db10289fff"
      },
      "source": [
        "import pandas as pd\n",
        "\n",
        "df = pd.DataFrame([\n",
        "  ['Apple', 7, 5, 'Fruit'],\n",
        "  ['Banana', 3, 6, 'Fruit'],\n",
        "  ['Beef', 5, 2, 'Meal'],\n",
        "  ['Kimchi', 4, 8, 'Meal']],\n",
        "  columns=[\"Name\", \"Frequency\", \"Importance\", \"Type\"])\n",
        "\n",
        "\n",
        "def my_filter(data):\n",
        "  return data[\"Frequency\"].mean() >= 5\n",
        "\n",
        "\n",
        "print(df)\n",
        "df = df.groupby(\"Type\").filter(my_filter)\n",
        "print(df)"
      ],
      "execution_count": 7,
      "outputs": [
        {
          "output_type": "stream",
          "text": [
            "     Name  Frequency  Importance   Type\n",
            "0   Apple          7           5  Fruit\n",
            "1  Banana          3           6  Fruit\n",
            "2    Beef          5           2   Meal\n",
            "3  Kimchi          4           8   Meal\n",
            "     Name  Frequency  Importance   Type\n",
            "0   Apple          7           5  Fruit\n",
            "1  Banana          3           6  Fruit\n"
          ],
          "name": "stdout"
        }
      ]
    },
    {
      "cell_type": "markdown",
      "metadata": {
        "id": "b6Kj2Iw0FscS"
      },
      "source": [
        "Data Frame Grouping 4"
      ]
    },
    {
      "cell_type": "code",
      "metadata": {
        "colab": {
          "base_uri": "https://localhost:8080/"
        },
        "id": "s5Ya5a0GFfQQ",
        "outputId": "875d8347-7b94-4d70-dfb7-3565854aac01"
      },
      "source": [
        "import pandas as pd\n",
        "\n",
        "df = pd.DataFrame([\n",
        "  ['Apple', 7, 5, 'Fruit'],\n",
        "  ['Banana', 3, 6, 'Fruit'],\n",
        "  ['Beef', 5, 2, 'Meal'],\n",
        "  ['Kimchi', 4, 8, 'Meal']],\n",
        "  columns=[\"Name\", \"Frequency\", \"Importance\", \"Type\"])\n",
        "\n",
        "df = df.groupby(\"Type\").get_group(\"Fruit\")\n",
        "print(df)"
      ],
      "execution_count": 8,
      "outputs": [
        {
          "output_type": "stream",
          "text": [
            "     Name  Frequency  Importance   Type\n",
            "0   Apple          7           5  Fruit\n",
            "1  Banana          3           6  Fruit\n"
          ],
          "name": "stdout"
        }
      ]
    },
    {
      "cell_type": "markdown",
      "metadata": {
        "id": "0iw_odgrFvn1"
      },
      "source": [
        "Data Frame Grouping 5"
      ]
    },
    {
      "cell_type": "code",
      "metadata": {
        "colab": {
          "base_uri": "https://localhost:8080/"
        },
        "id": "nQ5Hhzx8FxzL",
        "outputId": "53266413-f517-4958-b1b5-03f0405fcc44"
      },
      "source": [
        "import pandas as pd\n",
        "\n",
        "df = pd.DataFrame([\n",
        "  ['Apple', 7, 5, 'Fruit'],\n",
        "  ['Banana', 3, 6, 'Fruit'],\n",
        "  ['Beef', 5, 2, 'Meal'],\n",
        "  ['Kimchi', 4, 8, 'Meal']],\n",
        "  columns=[\"Name\", \"Frequency\", \"Importance\", \"Type\"])\n",
        "\n",
        "df[\"Gap\"] = df.groupby(\"Type\")[\"Frequency\"].apply(lambda x: x - x.mean())\n",
        "print(df)"
      ],
      "execution_count": 9,
      "outputs": [
        {
          "output_type": "stream",
          "text": [
            "     Name  Frequency  Importance   Type  Gap\n",
            "0   Apple          7           5  Fruit  2.0\n",
            "1  Banana          3           6  Fruit -2.0\n",
            "2    Beef          5           2   Meal  0.5\n",
            "3  Kimchi          4           8   Meal -0.5\n"
          ],
          "name": "stdout"
        }
      ]
    },
    {
      "cell_type": "markdown",
      "metadata": {
        "id": "f2M64eDBF8xy"
      },
      "source": [
        "Data Frame Multiplexing"
      ]
    },
    {
      "cell_type": "code",
      "metadata": {
        "colab": {
          "base_uri": "https://localhost:8080/"
        },
        "id": "jjKM0OErF6IG",
        "outputId": "c0afda07-1984-4043-d444-951ac0dee252"
      },
      "source": [
        "\n",
        "import numpy as np\n",
        "import pandas as pd\n",
        "\n",
        "df = pd.DataFrame(\n",
        "  np.random.randint(1, 10, (4, 4)),\n",
        "  index=[['1차', '1차', '2차', '2차'], ['공격', '수비', '공격', '수비']],\n",
        "  columns=['1회', '2회', '3회', '4회']\n",
        ")\n",
        "\n",
        "print(df)\n",
        "print(df[[\"1회\", \"2회\"]].loc[\"2차\"])"
      ],
      "execution_count": 10,
      "outputs": [
        {
          "output_type": "stream",
          "text": [
            "       1회  2회  3회  4회\n",
            "1차 공격   8   5   9   7\n",
            "   수비   2   8   2   1\n",
            "2차 공격   5   6   1   6\n",
            "   수비   5   4   1   3\n",
            "    1회  2회\n",
            "공격   5   6\n",
            "수비   5   4\n"
          ],
          "name": "stdout"
        }
      ]
    },
    {
      "cell_type": "markdown",
      "metadata": {
        "id": "--3LlnZnGNW1"
      },
      "source": [
        "Pivot Table"
      ]
    },
    {
      "cell_type": "code",
      "metadata": {
        "colab": {
          "base_uri": "https://localhost:8080/"
        },
        "id": "UjLkJNP3GDlw",
        "outputId": "77fcefb3-2569-430f-9237-18c9d383df1c"
      },
      "source": [
        "import numpy as np\n",
        "import pandas as pd\n",
        "\n",
        "df = pd.DataFrame([\n",
        "    ['Apple', 7, 5, 'Fruit'],\n",
        "    ['Banana', 3, 6, 'Fruit'],\n",
        "    ['Coconut', 2, 6, 'Fruit'],\n",
        "    ['Rice', 8, 2, 'Meal'],\n",
        "    ['Beef', 5, 2, 'Meal'],\n",
        "    ['Kimchi', 4, 8, 'Meal']],\n",
        "   columns=[\"Name\", \"Frequency\", \"Importance\", \"Type\"])\n",
        "\n",
        "print(df)\n",
        "df = df.pivot_table(\n",
        "    index=\"Importance\", columns=\"Type\", values=\"Frequency\",\n",
        "    aggfunc=np.max\n",
        ")\n",
        "print(df)"
      ],
      "execution_count": 11,
      "outputs": [
        {
          "output_type": "stream",
          "text": [
            "      Name  Frequency  Importance   Type\n",
            "0    Apple          7           5  Fruit\n",
            "1   Banana          3           6  Fruit\n",
            "2  Coconut          2           6  Fruit\n",
            "3     Rice          8           2   Meal\n",
            "4     Beef          5           2   Meal\n",
            "5   Kimchi          4           8   Meal\n",
            "Type        Fruit  Meal\n",
            "Importance             \n",
            "2             NaN   8.0\n",
            "5             7.0   NaN\n",
            "6             3.0   NaN\n",
            "8             NaN   4.0\n"
          ],
          "name": "stdout"
        }
      ]
    }
  ]
}