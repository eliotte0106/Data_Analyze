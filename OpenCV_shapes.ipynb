{
  "nbformat": 4,
  "nbformat_minor": 0,
  "metadata": {
    "colab": {
      "name": "OpenCV_shapes.ipynb",
      "provenance": [],
      "collapsed_sections": [],
      "authorship_tag": "ABX9TyOUKzNc/BcRqoPBvFF6QNyR",
      "include_colab_link": true
    },
    "kernelspec": {
      "name": "python3",
      "display_name": "Python 3"
    },
    "language_info": {
      "name": "python"
    }
  },
  "cells": [
    {
      "cell_type": "markdown",
      "metadata": {
        "id": "view-in-github",
        "colab_type": "text"
      },
      "source": [
        "<a href=\"https://colab.research.google.com/github/eliotte0106/Data_Analyze/blob/main/OpenCV_shapes.ipynb\" target=\"_parent\"><img src=\"https://colab.research.google.com/assets/colab-badge.svg\" alt=\"Open In Colab\"/></a>"
      ]
    },
    {
      "cell_type": "markdown",
      "metadata": {
        "id": "z_JwTQJQaX_M"
      },
      "source": [
        "cv2.line(image,start,end,color,thickness)\n",
        "\n",
        "1.   start : start coordinate (2d)\n",
        "2.   end: end coordinate (2d)\n",
        "3.   thickness: thick rate\n",
        "\n"
      ]
    },
    {
      "cell_type": "code",
      "metadata": {
        "colab": {
          "base_uri": "https://localhost:8080/",
          "height": 269
        },
        "id": "mi6-2tCFacvj",
        "outputId": "806df0dd-7f73-4671-c561-e69dad0108bc"
      },
      "source": [
        "import cv2\n",
        "import numpy as np\n",
        "import matplotlib.pyplot as plt\n",
        "\n",
        "image = np.full((512,512,3),255,np.uint8)\n",
        "image = cv2.line(image,(0,0),(255,255),(0,255,0),15)\n",
        "\n",
        "plt.imshow(image)\n",
        "plt.show()"
      ],
      "execution_count": 3,
      "outputs": [
        {
          "output_type": "display_data",
          "data": {
            "image/png": "[encoded data removed]",
            "text/plain": [
              "<Figure size 432x288 with 1 Axes>"
            ]
          },
          "metadata": {
            "tags": [],
            "needs_background": "light"
          }
        }
      ]
    },
    {
      "cell_type": "markdown",
      "metadata": {
        "id": "vfZD7ow9bSHC"
      },
      "source": [
        "cv2.rectangle(image,start,end,color,thickness)\n",
        "thickness : -1(fill)"
      ]
    },
    {
      "cell_type": "code",
      "metadata": {
        "colab": {
          "base_uri": "https://localhost:8080/",
          "height": 269
        },
        "id": "LVcJDJXgbW9z",
        "outputId": "764a753e-0bd1-4afc-e500-9de87417baed"
      },
      "source": [
        "import cv2\n",
        "import numpy as np\n",
        "import matplotlib.pyplot as plt\n",
        "\n",
        "image = np.full((512,512,3),255,np.uint8)\n",
        "image = cv2.rectangle(image,(150,150),(350,350),(255,0,0),-1)\n",
        "\n",
        "plt.imshow(image)\n",
        "plt.show()"
      ],
      "execution_count": 6,
      "outputs": [
        {
          "output_type": "display_data",
          "data": {
            "image/png": "[encoded data removed]",
            "text/plain": [
              "<Figure size 432x288 with 1 Axes>"
            ]
          },
          "metadata": {
            "tags": [],
            "needs_background": "light"
          }
        }
      ]
    },
    {
      "cell_type": "markdown",
      "metadata": {
        "id": "TGQWlHavb6xA"
      },
      "source": [
        "cv2.circle(image,center,radian,color,thickness)"
      ]
    },
    {
      "cell_type": "code",
      "metadata": {
        "colab": {
          "base_uri": "https://localhost:8080/",
          "height": 269
        },
        "id": "CnvPSv8wb-H2",
        "outputId": "97d2332a-998a-46e0-ca76-b9f3a8a0ec27"
      },
      "source": [
        "import cv2\n",
        "import numpy as np\n",
        "import matplotlib.pyplot as plt\n",
        "\n",
        "image = np.full((512,512,3),255,np.uint8)\n",
        "image = cv2.circle(image,(255,255),30,(0,0,255),5)\n",
        "\n",
        "plt.imshow(image)\n",
        "plt.show()"
      ],
      "execution_count": 7,
      "outputs": [
        {
          "output_type": "display_data",
          "data": {
            "image/png": "[encoded data removed]",
            "text/plain": [
              "<Figure size 432x288 with 1 Axes>"
            ]
          },
          "metadata": {
            "tags": [],
            "needs_background": "light"
          }
        }
      ]
    },
    {
      "cell_type": "markdown",
      "metadata": {
        "id": "0pAVPZ27cdBz"
      },
      "source": [
        "cv2.polylines(image,points,is_closed,color,thickness)\n",
        "\n",
        "1.   points: vertices\n",
        "2.   is_closed: open or not\n",
        "\n"
      ]
    },
    {
      "cell_type": "code",
      "metadata": {
        "colab": {
          "base_uri": "https://localhost:8080/",
          "height": 269
        },
        "id": "pGLMv8oDcm5B",
        "outputId": "31c60c01-28db-4cb6-a213-c09787d45f78"
      },
      "source": [
        "import cv2\n",
        "import numpy as np\n",
        "import matplotlib.pyplot as plt\n",
        "\n",
        "image = np.full((512,512,3),255,np.uint8)\n",
        "points = np.array([[5,5],[128,258],[483,444],[400,150]])\n",
        "image = cv2.polylines(image,[points],True,(0,255,0),4)\n",
        "\n",
        "plt.imshow(image)\n",
        "plt.show()"
      ],
      "execution_count": 10,
      "outputs": [
        {
          "output_type": "display_data",
          "data": {
            "image/png": "[encoded data removed]",
            "text/plain": [
              "<Figure size 432x288 with 1 Axes>"
            ]
          },
          "metadata": {
            "tags": [],
            "needs_background": "light"
          }
        }
      ]
    },
    {
      "cell_type": "markdown",
      "metadata": {
        "id": "Z19dbbzkdFTY"
      },
      "source": [
        "cv2.putText(image,test,position,font_type,font_scale,color)\n",
        "\n"
      ]
    },
    {
      "cell_type": "code",
      "metadata": {
        "colab": {
          "base_uri": "https://localhost:8080/",
          "height": 269
        },
        "id": "qMPlvcv-dL46",
        "outputId": "279164fd-22ff-4453-fde5-40b7dc625fbc"
      },
      "source": [
        "import cv2\n",
        "import numpy as np\n",
        "import matplotlib.pyplot as plt\n",
        "\n",
        "image = np.full((512,512,3),255,np.uint8)\n",
        "image = cv2.putText(image, 'Hello World',(0,200),cv2.FONT_ITALIC,2,(255,0,0))\n",
        "\n",
        "plt.imshow(image)\n",
        "plt.show()"
      ],
      "execution_count": 11,
      "outputs": [
        {
          "output_type": "display_data",
          "data": {
            "image/png": "[encoded data removed]",
            "text/plain": [
              "<Figure size 432x288 with 1 Axes>"
            ]
          },
          "metadata": {
            "tags": [],
            "needs_background": "light"
          }
        }
      ]
    },
    {
      "cell_type": "code",
      "metadata": {
        "id": "VEIys3hBddtP"
      },
      "source": [
        ""
      ],
      "execution_count": null,
      "outputs": []
    }
  ]
}